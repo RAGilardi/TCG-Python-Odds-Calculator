{
 "cells": [
  {
   "cell_type": "markdown",
   "id": "24a56322",
   "metadata": {},
   "source": [
    "This small project was born as a simple self-assignment, with which I tried to use Python (mostly scipy.stats) to recreate a \"Trading Card Game odds calculator\", by which I mean an instrument with which to calculate the probability of drawing any amount of copies of a certain card, or a combination of cards, from a deck.\n",
    "\n",
    "There are already NUMEROUS of these calculators online, most of which don't show their source code behind the GUI. I just tried to build the logic from the ground to review some of my knowledge in statistics and explore a bit of Python libraries I hadn't already used.\n",
    "\n",
    "In particular, there are two main sections in this notebook:\n",
    "- A **\"Copies Drawn\" calculator**, which shows the odds of drawing any number of copies of a card from a deck\n",
    "- A **\"Combination Drawn\" calculator**, which tells the odds of drawing multiple cards in the same hand\n",
    "\n",
    "The code is free to use and it is almost completely a direct use of already available functions, simply adapted for this particular problem.\n",
    "\n",
    "The results should all be correct and have been compared with other calculators'.\n",
    "\n",
    "The function used in this program could be used to build software that calculates the odds of drawing a certain card during a game (such as Untapped Companion: https://mtga.untapped.gg/companion), but as this could be considered cheating I explicitly maintained my code focused on the deckbuilding side of odds calculation.\n",
    "\n",
    "As I am myself a Magic the Gathering player (https://magic.wizards.com/en), most of the examples below will use MTG vocabulary, but the code can be used for any kind of situation with a \"deck\" and \"draws\".\n",
    "\n",
    "**EDIT 04/05/2023:** After almost completing the code, while I was looking for some different calculators with which to compare my results, I found another one explicitly talking about hypergeometric distribution and multivariate (hypergeometric) distribution as mine: https://www.mtgnexus.com/tools/drawodds/. This also gave the same results as my code, which I believe is enough proof that the calculations are accurate. \n",
    "\n",
    "In the case of the combination calculator, I yet didn't find a calculator which can work with any number of cards like mine.\n",
    "\n",
    "**EDIT 05/05/2023:** In the end of the notebook I also **added** an **extra section** about a better implementation of the iterative code used in section 2 based on an answer I received to a question on stackoverflow, which showed me some tech I didn't know and I tried to implement myself with the functions I originally used."
   ]
  },
  {
   "cell_type": "markdown",
   "id": "bfc07a7d",
   "metadata": {},
   "source": [
    "# 1 -  Copies Drawn"
   ]
  },
  {
   "cell_type": "markdown",
   "id": "09addf52",
   "metadata": {},
   "source": [
    "In this section, I will present a code to calculate the probability of seeing a particular element (card) in function of the population size (deck size), the number of specimens in the population (copies of the same card) and the number of draws (cards seen).\n",
    "\n",
    "As I'm not considering the possibility of redrawing a card after it is drawn (no replacements), I opted for using a hypergeometric distribution.\n",
    "\n",
    "This is luckily already implemented in the scipy.stats library: https://docs.scipy.org/doc/scipy/reference/generated/scipy.stats.hypergeom.html"
   ]
  },
  {
   "cell_type": "markdown",
   "id": "e34bc445",
   "metadata": {},
   "source": [
    "## Source code"
   ]
  },
  {
   "cell_type": "code",
   "execution_count": 1,
   "id": "303f8d1a",
   "metadata": {},
   "outputs": [],
   "source": [
    "#logic\n",
    "import numpy as np\n",
    "from scipy.stats import hypergeom\n",
    "import matplotlib.pyplot as plt\n",
    "\n",
    "#graphics\n",
    "from pylab import rcParams\n",
    "rcParams['figure.figsize'] = 5, 5\n",
    "np.set_printoptions(formatter={'float_kind':'{:.2f}'.format})\n",
    "from matplotlib.ticker import MaxNLocator\n",
    "\n",
    "#name uniquely the export image files\n",
    "import uuid "
   ]
  },
  {
   "cell_type": "code",
   "execution_count": 2,
   "id": "47794017",
   "metadata": {},
   "outputs": [],
   "source": [
    "#main function\n",
    "def copiesDrawn(deckSize=60, copies=4, cardsDrawn=7, array=True, plot=True, labels=True, save=False, nameFiles='result'):\n",
    "    \n",
    "    #call a function which check for errors in the arguments\n",
    "    errorCheck_1(deckSize, copies, cardsDrawn, array, plot, labels, save, nameFiles)\n",
    "    \n",
    "    #statistics\n",
    "    rv = hypergeom(deckSize, copies, cardsDrawn)\n",
    "    x = np.arange(0, copies+1)\n",
    "    pmf = rv.pmf(x)\n",
    "    \n",
    "    #function with which we can print the result, show plots and save them\n",
    "    outputFunction(x, pmf, copies, cardsDrawn, array, plot, labels, save, nameFiles);\n",
    "\n",
    "    #if needed for further analysis, the function returns the probability array\n",
    "    return pmf"
   ]
  },
  {
   "cell_type": "code",
   "execution_count": 3,
   "id": "06678baa",
   "metadata": {},
   "outputs": [],
   "source": [
    "# Output section \n",
    "def outputFunction(x, pmf, copies, cardsDrawn, array, plot, labels, save, nameFiles):\n",
    "    nice_pmf=100*pmf\n",
    "    \n",
    "    #giving the opportunity to block the array print or plot showing in case one of the is not needed\n",
    "    if array:\n",
    "        print(\"Probabilities (%) of drawing from 0 to \" + str(copies) + \" copies, having drawn \" + str(cardsDrawn)\\\n",
    "              + \" cards:\\n\", nice_pmf)\n",
    "    \n",
    "    if plot:\n",
    "        fig = plt.figure()\n",
    "        ax = fig.add_subplot(111)\n",
    "        ax.vlines(x, 0, nice_pmf, lw=2,linestyles='dashed',alpha=0.5)\n",
    "        ax.plot(x, nice_pmf, 'bo', ms=10)\n",
    "        plt.xlabel('# Copies Drawn', fontsize=20)\n",
    "        plt.ylabel('Probability', fontsize=20)\n",
    "        plt.grid()\n",
    "        ax.set_facecolor('#F2FBFB')\n",
    "        \n",
    "        ax.xaxis.set_major_locator(MaxNLocator(integer=True))\n",
    "        ax.tick_params(axis='both', labelsize=16)\n",
    "        \n",
    "        #as labels might currently overlap, I added the opportunity to remove them completely\n",
    "        if labels:\n",
    "            for i,j in zip(x,nice_pmf):\n",
    "                if j>1.00: #this condition is an aesthetic choice\n",
    "                    ax.annotate('%.2f'%(j)+'%',xy=(i+0.25, j), size=14, color=\"k\",weight='bold')\n",
    "        \n",
    "        if save:\n",
    "            filename = namefiles + '_'+str(uuid.uuid4())+'.png'\n",
    "            plt.savefig(filename,bbox_inches='tight')\n",
    "        \n",
    "        plt.show()\n",
    "    \n",
    "    return pmf"
   ]
  },
  {
   "cell_type": "code",
   "execution_count": 4,
   "id": "eed6d4ed",
   "metadata": {},
   "outputs": [],
   "source": [
    "#secondary function, which checks for errors\n",
    "def errorCheck_1(deckSize, copies, cardsDrawn, array, plot, labels, save, nameFiles):\n",
    "    \n",
    "    # input arguments' type checks\n",
    "    if isinstance(deckSize, int)==False:\n",
    "        raise ValueError(\"results: the deckSize must be an integer greater than 0. Default is 60.\")\n",
    "\n",
    "    if isinstance(copies, int)==False:\n",
    "        raise ValueError(\"results: the number of copies must be an integer greater than 0. Default is 4.\")\n",
    "\n",
    "    if isinstance(cardsDrawn, int)==False:\n",
    "        raise ValueError(\"results:  the number of cards drawn must be an integer greater than 0. Default is 7.\")\n",
    "\n",
    "    if isinstance(array, bool)==False:\n",
    "        raise ValueError(\"results: the array argument must be a boolean: True or False. Default is True.\")\n",
    "\n",
    "    if isinstance(plot, bool)==False:\n",
    "        raise ValueError(\"results: the plot argument must be a boolean: True or False. Default is True.\")\n",
    "\n",
    "    if isinstance(labels, bool)==False:\n",
    "        raise ValueError(\"results: the labels argument must be a boolean: True or False. Default is True.\")\n",
    "        \n",
    "    if isinstance(save, bool)==False:\n",
    "        raise ValueError(\"results: the save argument must be a boolean: True or False. Default is True.\")\n",
    "    \n",
    "    if isinstance(nameFiles, str)==False:\n",
    "        raise ValueError(\"results: the nameFiles argument must be a String (between marks). Default is 'result'.\")\n",
    "    \n",
    "    #logic checks on arguments' values\n",
    "    if deckSize < 1:\n",
    "        raise ValueError(\"results: the deckSize must be an integer greater than 0. Default is 60.\")\n",
    "\n",
    "    if copies < 1:\n",
    "        raise ValueError(\"results: the number of copies must be an integer greater than 0. Default is 4.\")\n",
    "        \n",
    "    if cardsDrawn < 0:\n",
    "        raise ValueError(\"results: the number of cards drawn must be an integer greater than 0. Default is 7.\")\n",
    "        \n",
    "    if copies > deckSize:\n",
    "        raise ValueError(\"results: You cannot have more copies of a card in the deck than the total number of cards. \\\n",
    "                            Default is 4\")\n",
    "\n",
    "    if cardsDrawn > deckSize:\n",
    "        raise ValueError(\"results: You cannot draw more cards from the deck than the total number of cards. \\\n",
    "                            Default is 7.\")\n",
    "        \n",
    "    #to keep the code simpler, the plot can be saved just when the plot is shown in the notebook\n",
    "    if plot==False and save==True:\n",
    "        raise ValueError(\"result: You cannot value the argument save as True if plot is valued False\")"
   ]
  },
  {
   "cell_type": "markdown",
   "id": "1d6a8377",
   "metadata": {},
   "source": [
    "## How to Use\n",
    "The easiest way to use the code is to simply launch it one time.\n",
    "\n",
    "**Example 1:** I'm playing a commander deck with no partners (99 cards from which to draw) and I'm wondering my possibility to draw a green land, of which I might have 8 instances in the deck, in my first 3 turns (10 cards seen with no extra draws, tutoring or milling. As I might draw a few more cards, I might look for the probability adding more than 10 draws, let's say 15). "
   ]
  },
  {
   "cell_type": "code",
   "execution_count": 5,
   "id": "3662247c",
   "metadata": {
    "scrolled": false
   },
   "outputs": [
    {
     "name": "stdout",
     "output_type": "stream",
     "text": [
      "Probabilities (%) of drawing from 0 to 8 copies, having drawn 15 cards:\n",
      " [25.46 39.68 24.93 8.20 1.54 0.17 0.01 0.00 0.00]\n"
     ]
    },
    {
     "data": {
      "image/png": "[encoded data removed]",
      "text/plain": [
       "<Figure size 432x288 with 1 Axes>"
      ]
     },
     "metadata": {
      "needs_background": "light"
     },
     "output_type": "display_data"
    }
   ],
   "source": [
    "copiesDrawn(deckSize = 99, copies = 8, cardsDrawn = 15);"
   ]
  },
  {
   "cell_type": "markdown",
   "id": "866dfcf8",
   "metadata": {},
   "source": [
    "Some more parameters add more customizability to the function call:\n",
    "- **array** defines whether to print or not the array of probabilities of drawing x copies of the card (starting from 0). I reduced the decimal point for readability. Default is True.\n",
    "- **plot** defines whether to plot or not the same array (useful for visualization). Default is True.\n",
    "- **labels** defines whether to add or not labels on the plot (might be needed to be removed for readability). Default is True.\n",
    "- **save** asks the code to save or not the plot as a png in the work directory. Default is False.\n",
    "- **nameFiles** define a prefix for the output files. Defaults are \"result\".\n",
    "\n",
    "#### Sidenote on the plotting:\n",
    "As shown for example in this StackOverflow thread https://stackoverflow.com/questions/19073683/how-to-fix-overlapping-annotations-text I might consider adding to the plotting code a section with which calculate an optimal position for every annotation. I didn't for the sake of simplicity."
   ]
  },
  {
   "cell_type": "markdown",
   "id": "8e152014",
   "metadata": {},
   "source": [
    "### Looping the function:\n",
    "One might use the function in a for loop, collecting the different results or plotting all of them for comparison, as shown below"
   ]
  },
  {
   "cell_type": "markdown",
   "id": "11984d60",
   "metadata": {},
   "source": [
    "**Example 2:** Here I'm collecting the results of the loop in a list, for statistics"
   ]
  },
  {
   "cell_type": "code",
   "execution_count": 6,
   "id": "97c78d6b",
   "metadata": {},
   "outputs": [
    {
     "name": "stdout",
     "output_type": "stream",
     "text": [
      "[array([0.85, 0.15]), array([0.72, 0.26, 0.02]), array([0.61, 0.33, 0.06, 0.00]), array([0.51, 0.38, 0.10, 0.01, 0.00]), array([0.43, 0.40, 0.14, 0.02, 0.00, 0.00]), array([0.36, 0.41, 0.18, 0.04, 0.00, 0.00, 0.00]), array([0.30, 0.41, 0.22, 0.06, 0.01, 0.00, 0.00, 0.00])]\n"
     ]
    }
   ],
   "source": [
    "list = []\n",
    "\n",
    "for i in range(1,8):\n",
    "    list.append(copiesDrawn(deckSize = 99, copies = i, cardsDrawn = 15, array=False,\\\n",
    "                             plot=False, labels=True, save=False, nameFiles='result'))\n",
    "\n",
    "print(list)"
   ]
  },
  {
   "cell_type": "markdown",
   "id": "c50d8428",
   "metadata": {},
   "source": [
    "Note that you can still save the plots from the loop, as their names are unique by code"
   ]
  },
  {
   "cell_type": "markdown",
   "id": "b3425c6f",
   "metadata": {},
   "source": [
    "**Example 3:** plot comparison\n",
    "\n",
    "Here I'm changing the number of copies of a card in the deck, to find the best one for the first 3 turns of the game.\n",
    "\n",
    "One might use a more sofisticated analysis than looking at the higher chance, but this is beyond this notebook's aim"
   ]
  },
  {
   "cell_type": "code",
   "execution_count": 7,
   "id": "459564bf",
   "metadata": {},
   "outputs": [
    {
     "data": {
      "image/png": "[encoded data removed]",
      "text/plain": [
       "<Figure size 432x288 with 1 Axes>"
      ]
     },
     "metadata": {
      "needs_background": "light"
     },
     "output_type": "display_data"
    },
    {
     "data": {
      "image/png": "[encoded data removed]",
      "text/plain": [
       "<Figure size 432x288 with 1 Axes>"
      ]
     },
     "metadata": {
      "needs_background": "light"
     },
     "output_type": "display_data"
    }
   ],
   "source": [
    "for i in range(10,12): #remember range(a,b) goes from a to b-1\n",
    "    list.append(copiesDrawn(deckSize = 99, copies = i, cardsDrawn = 15, array=False, plot=True,\\\n",
    "                             labels=True, save=False, nameFiles='result'))"
   ]
  },
  {
   "cell_type": "markdown",
   "id": "5b829021",
   "metadata": {},
   "source": [
    "# 2 - Combination of card drawn"
   ]
  },
  {
   "cell_type": "markdown",
   "id": "a7807c3a",
   "metadata": {},
   "source": [
    "In this section, I will present a code to calculate the probability of seeing a particular collection of elements (a certain amount of each of these different cards) in function of the population size (deck size), the number of specimens in their populations (copies available of each card) and the number of draws (cards seen).\n",
    "\n",
    "As for the first script, I'm not considering the possibility of redrawing a card after it is drawn (no replacements), hence I opted for using a multivariate hypergeometric distribution for the cards pdf.\n",
    "\n",
    "This statistic too is already implemented in the scipy.stats library: https://docs.scipy.org/doc/scipy/reference/generated/scipy.stats.multivariate_hypergeom.html\n",
    "\n",
    "In this case I didn't find any useful application of plots, so the only output of the function will be a percentage (float). This could be changed easily if someone needed.\n",
    "\n",
    "### Cumulative Probability\n",
    "Another difference from the previous case is that there are no ready-made functions in the scipy.stats library, or any kind of simple loop calls of the function, that might help calculate the cumulative probability of drawing AT LEAST the number of copies of each specimen required by the user. \n",
    "\n",
    "This means that with only the multivariate_hypergeom.pmf, we could calculate the probability of drawing an exact combination of cards, without considering the probabilities in which we draw additional copies of the same.\n",
    "\n",
    "To overcome this problem I wrote the getPossibleArrays, which use the product method from the itertools library to calculate all the possible combination of legal draws with at least the number of copies required by the user.\n",
    "\n",
    "Also, to create something a bit different from the similar calculators I've seen online, I wanted to make my script usable for an arbitrarily large combination of cards. This is still limited by the computational efficiency of the code but is more versatile than a two cards combo calculator."
   ]
  },
  {
   "cell_type": "code",
   "execution_count": 8,
   "id": "35c565ec",
   "metadata": {},
   "outputs": [],
   "source": [
    "#logic\n",
    "from scipy.stats import multivariate_hypergeom\n",
    "import numpy as np\n",
    "\n",
    "#iteratively find all the possible legal combination in the case cumulative probability was needed\n",
    "import itertools as itera"
   ]
  },
  {
   "cell_type": "code",
   "execution_count": 9,
   "id": "9511992d",
   "metadata": {},
   "outputs": [],
   "source": [
    "#main function\n",
    "def comboDraw(deckSize = 60, copies = [4, 4], draws = [1,1], totDraws = 7, cumulative = True, showResult = True):\n",
    "\n",
    "    #call a function which check for errors in the arguments\n",
    "    #if the computation is too costly (large arrays and/or draws), might want to comment this out\n",
    "    errorCheck_2(deckSize, copies, draws, totDraws, cumulative, showResult)\n",
    "    \n",
    "    #initializing variables needed in the computation\n",
    "    xTot = np.sum(draws)\n",
    "    mTot = np.sum(copies)\n",
    "\n",
    "    #these added element to draws and copies are needed by the pfm method\n",
    "    #could be calculated later, but placed here for code readability\n",
    "    draws.append(totDraws - xTot)\n",
    "    copies.append(deckSize - mTot)\n",
    "\n",
    "    #handSlot and cases are used in the computation of the many possible permutations, when calculating cumulative prob.\n",
    "    handSlots = totDraws - xTot \n",
    "    cases = []\n",
    "    \n",
    "    #final output\n",
    "    result = 0\n",
    "    \n",
    "    #check whether we want an exact or cumulative permutation \n",
    "    \n",
    "    #exact solution:\n",
    "    #the case with handSlot == 0 has the same solution in both the exact and cumulative cases\n",
    "    if cumulative == False or handSlots == 0:\n",
    "        result= multivariate_hypergeom.pmf(draws, copies, totDraws)\n",
    "\n",
    "        #if using a large loop user might want to hide the result\n",
    "        if showResult:\n",
    "             print('The probability of drawing this exact number of cards of each type is: \\\n",
    "                    \\n%.2f'%(result*100)+'%')           \n",
    "    \n",
    "    #cumulative solution:\n",
    "    else:\n",
    "        #here I'm calling a function with which I'll find any legal draws combination to consider\n",
    "        copySlots = np.array(copies[:-1]) - np.array(draws[:-1])\n",
    "\n",
    "        cases = getPossibleArrays(copySlots, handSlots)\n",
    "\n",
    "        #now I will sum the probability of drawing each of these combinations\n",
    "        for case in cases:\n",
    "\n",
    "            #as the number of cards drawn for each type change, I update the last digits of my array to input in pfm \n",
    "            new_draws = np.array(draws.copy())\n",
    "            new_draws[:-1] += case[:]\n",
    "\n",
    "            xTot = np.sum(new_draws[:-1])\n",
    "\n",
    "            new_draws[-1] = (totDraws - xTot)\n",
    "\n",
    "            #actual result calculated with the pfm method\n",
    "            result+=(multivariate_hypergeom.pmf(new_draws, copies, totDraws))\n",
    "    \n",
    "        if showResult:\n",
    "            print('The probability of drawing at least these numbers of cards of each type is: \\\n",
    "                    \\n%.2f'%(result*100)+'%')\n",
    "\n",
    "    #return the result as it might be useful for statystics or looping\n",
    "    return(result)"
   ]
  },
  {
   "cell_type": "code",
   "execution_count": 10,
   "id": "ca240683",
   "metadata": {},
   "outputs": [],
   "source": [
    "def getPossibleArrays(copySlots, handSlots):\n",
    "    #initialize an empty list to store the result (possible combination of draws while considering cumulative probability)\n",
    "    #a draw is accepted if doesn't surpass the available number of copies of a card of any type\n",
    "    #and if it doesn't require you to draw more cards than the number required by the user\n",
    "    cases = []\n",
    "    \n",
    "    #create a list of ranges for each cell based on the corresponding value in the input array\n",
    "    ranges = [range(x+1) for x in copySlots]\n",
    "    \n",
    "    #generate all possible arrays by iterating over all possible values for each cell\n",
    "    for values in itera.product(*ranges):\n",
    "        \n",
    "        #check if the sum of the array is less than or equal to the number of available slots in the drawn hand\n",
    "        if sum(values) <= handSlots:\n",
    "            \n",
    "            #add the array to the result list if it meets the conditions\n",
    "            cases.append(values)\n",
    "    \n",
    "    #return the list of possible arrays\n",
    "    return cases\n",
    "\n",
    "#get_possible_arrays([4,4],5)"
   ]
  },
  {
   "cell_type": "code",
   "execution_count": 11,
   "id": "a8ea8fed",
   "metadata": {},
   "outputs": [],
   "source": [
    "#secondary function, which checks for errors\n",
    "def errorCheck_2(deckSize, copies, draws, totDraws, cumulative, showResult):\n",
    "    \n",
    "    # input arguments' type checks\n",
    "    if isinstance(deckSize, int)==False:\n",
    "        raise ValueError(\"results: the deckSize must be an integer greater than 0. Default is 60.\")\n",
    "\n",
    "    for i in copies:\n",
    "        if isinstance(i, int)==False:\n",
    "            raise ValueError(\"results: the number of copies must be an integer greater than 0. Default is 4.\")\n",
    "\n",
    "    for i in draws:\n",
    "        if isinstance(i, int)==False:\n",
    "            raise ValueError(\"results: the number of card drawn must be an integer greater than 0. Default is 4.\")    \n",
    "\n",
    "    if isinstance(totDraws, int)==False:\n",
    "        raise ValueError(\"results:  the number of cards drawn must be an integer greater than 0. Default is 4.\")\n",
    "\n",
    "    if isinstance(cumulative, bool)==False:\n",
    "        raise ValueError(\"results: the cumulative argument must be a boolean: True or False. Default is True.\")\n",
    "        \n",
    "    if isinstance(showResult, bool)==False:\n",
    "        raise ValueError(\"results: the showResult argument must be a boolean: True or False. Default is True.\")\n",
    "        \n",
    "    #logic checks on arguments' values\n",
    "    if deckSize < 1:\n",
    "        raise ValueError(\"results: the deckSize must be an integer greater than 0. Default is 60.\")\n",
    "\n",
    "    for i in copies:\n",
    "        if i < 1:\n",
    "            raise ValueError(\"results: the number of copies must be an integer greater than 0. Default is 4.\")\n",
    "    \n",
    "    for i in draws:\n",
    "        if i < 0:\n",
    "            raise ValueError(\"results: the number of draws of a card must be an integer greater than 1. Default is 4.\")\n",
    "\n",
    "    if totDraws < 0:\n",
    "        raise ValueError(\"results: the number of cards drawn must be an integer greater than 0. Default is 7.\")\n",
    "        \n",
    "    if sum(draws) > deckSize:\n",
    "        raise ValueError(\"results: You cannot draw more copies of a card than the total number of cards. \\\n",
    "                            Default is 4.\")\n",
    "\n",
    "    for i in range(len(draws)):\n",
    "        if draws[i] > copies[i]:\n",
    "            raise ValueError(\"results: You cannot draw more copies of a card than the number of this card in the deck. \\\n",
    "                                Default is 4.\")\n",
    "            \n",
    "    if len(draws) != len(copies):\n",
    "        raise ValueError(\"results: The draws array cannot have a different size (number of elements) than the copies array.\")\n",
    "\n",
    "    if totDraws > deckSize:\n",
    "        raise ValueError(\"results: You cannot draw more cards from the deck than the total number of cards. \\\n",
    "                            Default is 7.\")"
   ]
  },
  {
   "cell_type": "markdown",
   "id": "f7233b5a",
   "metadata": {},
   "source": [
    "## How to Use\n",
    "\n",
    "The script launch is pretty straightforward. \n",
    "\n",
    "All the parameters have default values, so they can be ignored in the function calls.\n",
    "\n",
    "I will briefly explain them one by one:\n",
    "- **deckSize** is the size of the card pool from which you're drawing consequently without repetitions. The default value is 60 cards\n",
    "- **copies** is an array (can be of any size) in which write the number of available copies of every card we are considering. The default value is [4,4]\n",
    "- **draws** is an array (can be of any size) in which write the number of copies of every card we want to draw in our pool. The default value is [1,1].\n",
    "- **totDraws** is the number of cards drawn from the deck\n",
    "- **cumulative** is a boolean which tells the code whether to calculate the probability of drawing EXACTLY the number of copies we asked (False) or any combination of cards with AT LEAST these numbers of copies (True).\n",
    "- **showResult** is a boolean which tells the code whether to print or not the resulting percentage. In any case, the result is returned as the output of the function"
   ]
  },
  {
   "cell_type": "markdown",
   "id": "c0f6e5f3",
   "metadata": {},
   "source": [
    "**Example:** I'm playing an 80 cards deck (F for the Yorion players) and I want to know how many chances I have to draw in the first 3 turns (10 cards if I start on the draw):\n",
    "- at least 2 of my 15 blue mana sources\n",
    "- at least 1 of my 8 counterspells\n",
    "- at least 3 of my 12 cantrips"
   ]
  },
  {
   "cell_type": "code",
   "execution_count": 12,
   "id": "d235974f",
   "metadata": {},
   "outputs": [
    {
     "name": "stdout",
     "output_type": "stream",
     "text": [
      "The probability of drawing at least these numbers of cards of each type is:                     \n",
      "4.03%\n"
     ]
    }
   ],
   "source": [
    "comboDraw(deckSize = 80, copies = [15, 8, 12], draws = [2, 1, 3], totDraws = 10, cumulative = True);"
   ]
  },
  {
   "cell_type": "markdown",
   "id": "cecf13cf",
   "metadata": {},
   "source": [
    "**NOTE:** If the populations (different cards) you are considering overlap, the code will give you a wrong result. Try to consider SEPARATED populations.\n",
    "\n",
    "If one of my populations is blue cards and the other is red cards, you have to \"decide\" in which category put cards that are both red and blue.\n",
    "\n",
    "This can be solved with reason and semantics and I didn't think it needed a hard-coded solution."
   ]
  },
  {
   "cell_type": "markdown",
   "id": "4e6a5d2a",
   "metadata": {},
   "source": [
    "### Looping the function\n",
    "Again, one might get crazy and loop the code for any kind of statistics or plotting\n",
    "\n",
    "**Example 2**: Here I'm wondering how many green the chance of drawing an increasing number of blue cards (max 5) if I have 3 green cards in my initial hand of 8 (and 20 green cards in total in the deck) in my commander deck (deckSize = 99).\n",
    "\n",
    "This doesn't take into consideration the nature of every non-blue non-green card. It's just one of the other 99-20-5 cards in the deck!"
   ]
  },
  {
   "cell_type": "code",
   "execution_count": 13,
   "id": "d82b236f",
   "metadata": {},
   "outputs": [
    {
     "name": "stdout",
     "output_type": "stream",
     "text": [
      "The chance of drawing exactly 0 blue cards in this hand is:\n",
      "10.72657618%\n",
      "\n",
      "The chance of drawing exactly 1 blue cards in this hand is:\n",
      "3.83092006%\n",
      "\n",
      "The chance of drawing exactly 2 blue cards in this hand is:\n",
      "0.43165296%\n",
      "\n",
      "The chance of drawing exactly 3 blue cards in this hand is:\n",
      "0.01798554%\n",
      "\n",
      "The chance of drawing exactly 4 blue cards in this hand is:\n",
      "0.00024638%\n",
      "\n",
      "The chance of drawing exactly 5 blue cards in this hand is:\n",
      "0.00000067%\n",
      "\n"
     ]
    }
   ],
   "source": [
    "for i in range(6):\n",
    "    res = comboDraw(deckSize = 99, copies = [5, 20], draws = [i, 3], totDraws = 8, cumulative = False, showResult=False);\n",
    "    \n",
    "    print(\"The chance of drawing exactly \" + str(i) + \" blue cards in this hand is:\\n\"+'%.8f'%(res*100)+'%\\n')"
   ]
  },
  {
   "cell_type": "markdown",
   "id": "8dd56fc8",
   "metadata": {},
   "source": [
    "# 3 -  Sidenote on the iteration function in section 2\n",
    "While I was writing this code I found myself stuck in a section (the way to iteratively create permutations of arrays for the combo calculator) and tried to ask help on stack overflow:\n",
    "https://stackoverflow.com/questions/76175062/python-combinatory-problem-with-arrays-and-integers/76175234#76175234\n",
    "\n",
    "If in the end I found myself an answer that worked good enough for me, another user named **btilly** showed me an incredibly better solution using **generator functions** self-calling themselves and using the **yield** keyword.\n",
    "\n",
    "I had never seen these concepts before and it was shocking how fast they worked.\n",
    "\n",
    "I couldn't put this piece of code as I couldn't understand it at the time of writing, but wanted to show it for anyone who might read this notebook"
   ]
  },
  {
   "cell_type": "code",
   "execution_count": 14,
   "id": "28cb148f",
   "metadata": {
    "scrolled": true
   },
   "outputs": [],
   "source": [
    "def find_filtered_combs (value_limit, max_sum, i=0, partial=None):\n",
    "    if partial is None:\n",
    "        partial = []\n",
    "\n",
    "    if max_sum < 0:\n",
    "        pass # No combs to find\n",
    "    elif max_sum == 0:\n",
    "        zeros = len(value_limit) - len(partial)\n",
    "        yield partial + ([0]*zeros)\n",
    "    elif len(value_limit) <= i:\n",
    "        yield partial\n",
    "    else:\n",
    "        for j in range(value_limit[i]+1):\n",
    "            partial.append(j)\n",
    "            yield from find_filtered_combs(value_limit, max_sum - j, i+1, partial)\n",
    "            partial.pop()"
   ]
  },
  {
   "cell_type": "code",
   "execution_count": 15,
   "id": "0f865926",
   "metadata": {},
   "outputs": [],
   "source": [
    "#for comb in find_filtered_combs([2]*30, 2):\n",
    "#    print(comb)"
   ]
  },
  {
   "cell_type": "markdown",
   "id": "c2566193",
   "metadata": {},
   "source": [
    "Below a solution I found trying to use the same concepts suggested by btilly, but the iteratools library I originally found.\n",
    "\n",
    "This is a less elegant solution, but should be similarly efficient. I just tried to apply what I've seen in their code \"with my own words\".\n",
    "\n",
    "I believe the key here is that the self-calling function let the code write one solution at the time, not occuping the memory with all the combinations at the same time."
   ]
  },
  {
   "cell_type": "code",
   "execution_count": 16,
   "id": "fee4fe3b",
   "metadata": {},
   "outputs": [],
   "source": [
    "import itertools\n",
    "\n",
    "def generate_possible_arrays(input_array, target_sum):\n",
    "    # Create a list of ranges for each cell based on the corresponding value in the input array\n",
    "    ranges = [range(x+1) for x in input_array]\n",
    "    \n",
    "    # Generate all possible arrays by iterating over all possible values for each cell\n",
    "    for values in itertools.product(*ranges):\n",
    "        # Check if the sum of the array is less than or equal to the target sum\n",
    "        if sum(values) <= target_sum:\n",
    "            # Yield the array if it meets the conditions\n",
    "            yield values"
   ]
  },
  {
   "cell_type": "code",
   "execution_count": 17,
   "id": "7c04ec5b",
   "metadata": {},
   "outputs": [],
   "source": [
    "input_array = [2]*10\n",
    "target_sum = 2\n",
    "\n",
    "#for possible_array in generate_possible_arrays(input_array, target_sum):\n",
    "#    print(possible_array)"
   ]
  },
  {
   "cell_type": "code",
   "execution_count": null,
   "id": "6e4e6396",
   "metadata": {},
   "outputs": [],
   "source": []
  }
 ],
 "metadata": {
  "kernelspec": {
   "display_name": "Python 3 (ipykernel)",
   "language": "python",
   "name": "python3"
  },
  "language_info": {
   "codemirror_mode": {
    "name": "ipython",
    "version": 3
   },
   "file_extension": ".py",
   "mimetype": "text/x-python",
   "name": "python",
   "nbconvert_exporter": "python",
   "pygments_lexer": "ipython3",
   "version": "3.10.4"
  }
 },
 "nbformat": 4,
 "nbformat_minor": 5
}
